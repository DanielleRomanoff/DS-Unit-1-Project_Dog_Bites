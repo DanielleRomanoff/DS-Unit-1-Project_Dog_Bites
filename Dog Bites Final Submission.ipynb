{
 "cells": [
  {
   "cell_type": "markdown",
   "metadata": {},
   "source": [
    "# Dog Bites, Breed, and Gender #\n",
    "***"
   ]
  },
  {
   "cell_type": "markdown",
   "metadata": {},
   "source": [
    "##### Do Dog Bites have any Relationship to Breed, Gender, or Whether the Dog is Spayed or Neutered?"
   ]
  },
  {
   "cell_type": "markdown",
   "metadata": {},
   "source": [
    "![Pitbull](Pitbull.png \"ShowMyImage\")"
   ]
  },
  {
   "cell_type": "markdown",
   "metadata": {},
   "source": [
    "> When I began this project, the general question I wanted to answer was why do dogs bite? Is it nature or nurture.\n",
    "> As I searched for data on this subject, I began finding how difficult it would be to answer those two questions.\n",
    "> Why? There are many reasons but the biggest hurdles include a lack of a centralized reporting system for dog\n",
    "> bites. Dog bite incidents are reported to one of many agencies which then do not share that information with the\n",
    "> others. For example, the emergency room, the police, the veterinarian are just a few. This makes meaningful\n",
    "> analysis to answer my initial question nearly impossible. "
   ]
  },
  {
   "cell_type": "markdown",
   "metadata": {},
   "source": [
    "> What I decided to focus on this time was the relationship between the breed and gender of the dogs that have\n",
    "> been reported to have bitten a person. The other factor I was interested in was whether the dog had been spayed\n",
    "> or neutered and did that have any obvious connection to a bite incident. Since the raw data automatically\n",
    "> removed the context of the bite incident, I needed to focus on something more straight forward. The data I was\n",
    "> able to find included the breed of the dog, the gender, and whether the animal had been spayed or neutered.\n",
    "> Shown below is a small part of the data I was able to find and work with to draw some conclusions."
   ]
  },
  {
   "cell_type": "markdown",
   "metadata": {},
   "source": [
    "![Dog Bite By Breed](NYC_DataID.png \"ShowMyImage\")"
   ]
  },
  {
   "cell_type": "markdown",
   "metadata": {},
   "source": [
    "> The above data shows a mere seven breeds of dog. There were almost 1300 breeds listed in this data set.\n",
    "> Reading the data above: Below the word, 'Breed', is the actual breed of the dog. There are many mixed\n",
    "> breeds as well as pure breds in the list. To the right of that is the gender of the dog and to its right\n",
    "> reveals whether the dog has been spayed or neutered. Finally, the UniqueID is the actual number of bites\n",
    "> that occured for the spayed/unspayed female or neutered/unneutered male for the specific breed listed. "
   ]
  },
  {
   "cell_type": "markdown",
   "metadata": {},
   "source": [
    "### Important Fact About a Specific Breed"
   ]
  },
  {
   "cell_type": "markdown",
   "metadata": {},
   "source": [
    "> Breed specific laws exist all over the world. As we will see in the following visuals, PitBulls are blamed for\n",
    "> many of the incidents of people being bitten. Just a tidbit of information I'd like to address before we get\n",
    "> get into the results I've found. "
   ]
  },
  {
   "cell_type": "markdown",
   "metadata": {},
   "source": [
    "![AKC Quote](AKC.png \"ShowMyImage\")"
   ]
  },
  {
   "cell_type": "markdown",
   "metadata": {},
   "source": [
    "> Breed-specific laws do exist for pitbulls. However, the American Kennel Club(AKC) does not consider pitbulls to\n",
    "> be purebred dogs. They do not register dogs classified as pitbulls. How can breed-specific laws exist for a\n",
    "> breed that isn't recognized? From the AKC, \"Pit bull is a term commonly used to describe a particular type of\n",
    "> dog--many being of mixed breeding--that has some ancenstry relating to breeds in the United States. ... Pit\n",
    "> bull is also used sometimes to describe mixes or breeds not registered with the AKC. ...\""
   ]
  },
  {
   "cell_type": "markdown",
   "metadata": {},
   "source": [
    "***"
   ]
  },
  {
   "cell_type": "markdown",
   "metadata": {},
   "source": [
    "# Results and Visuals from the Data"
   ]
  },
  {
   "cell_type": "markdown",
   "metadata": {},
   "source": [
    "> In this project, I used two data sets. The first was a document from court hearings in the state of \n",
    "> Pennsylvania. Unfortunately, this data set did not provide the needed information to draw any conclusions about > bites by breed and gender. That said, it did permit me to see the number of bite incident per county in the \n",
    "> state. Though this visual does not answer the questions above, it was interesting to take a look at so I've \n",
    "> included it here. "
   ]
  },
  {
   "cell_type": "markdown",
   "metadata": {},
   "source": [
    "<div>\n",
    "    <a href=\"https://plot.ly/~dlromanoff/2/?share_key=6DRfXuWcRcMqk1hcMUSp7K\" target=\"_blank\" title=\"choropleth_pennsylvania\" style=\"display: block; text-align: center;\"><img src=\"https://plot.ly/~dlromanoff/2.png?share_key=6DRfXuWcRcMqk1hcMUSp7K\" alt=\"choropleth_pennsylvania\" style=\"max-width: 100%;width: 900px;\"  width=\"900\" onerror=\"this.onerror=null;this.src='https://plot.ly/404.png';\" /></a>\n",
    "    <script data-plotly=\"dlromanoff:2\" sharekey-plotly=\"6DRfXuWcRcMqk1hcMUSp7K\" src=\"https://plot.ly/embed.js\" async></script>\n",
    "</div>\n"
   ]
  },
  {
   "cell_type": "markdown",
   "metadata": {},
   "source": [
    "**If you'd like to view the interactive chart, please just click on the chart itself. It will bring you to another page where you can use the cursor to identify the county and the number of bite incidents there.**\n",
    "***"
   ]
  },
  {
   "cell_type": "markdown",
   "metadata": {},
   "source": [
    "Below is a stacked area chart based on the second data set. This data included the breed, the gender, and whether the animal was spayed or neutered. When looking at this chart, there are two categories that appear to fill a great deal more area than the other two. Let's take a look. Again, if you'd like the interactive chart, please just click on this chart itself. It will bring you to another page where you can use the cursor to get more information."
   ]
  },
  {
   "cell_type": "markdown",
   "metadata": {},
   "source": [
    "\n",
    "<div>\n",
    "    <a href=\"https://plot.ly/~dlromanoff/4/?share_key=a3VT2y8KV4JexYzNJxeU4L\" target=\"_blank\" title=\"stacked-area-plot-norm\" style=\"display: block; text-align: center;\"><img src=\"https://plot.ly/~dlromanoff/4.png?share_key=a3VT2y8KV4JexYzNJxeU4L\" alt=\"stacked-area-plot-norm\" style=\"max-width: 100%;width: 600px;\"  width=\"600\" onerror=\"this.onerror=null;this.src='https://plot.ly/404.png';\" /></a>\n",
    "    <script data-plotly=\"dlromanoff:4\" sharekey-plotly=\"a3VT2y8KV4JexYzNJxeU4L\" src=\"https://plot.ly/embed.js\" async></script>\n",
    "</div>\n"
   ]
  },
  {
   "cell_type": "markdown",
   "metadata": {},
   "source": [
    "> Across the bottom of the chart is the breed of dog and on the side or y axis is the number of bites for each\n",
    "> breed. Notice the legend, the color on the chart represents whether the breed you are looking at is male or\n",
    "> female, and spayed or neutered. **Some observations:** When looking at this chart, it appears the males whether\n",
    "> neutered or not, have considerably more incidents of bites than do the females. \n",
    "\n",
    "> I'm sure I could theorize as to why this is the case but I have no data or evidence to back up my suspicions.\n",
    "> Before cleaning up the data and putting it into visuals, my suspicions were that female dogs would have a\n",
    "> greater number of bite incidents. Females are the ones that take care of the pups when they are born so my\n",
    "> assumption was they'd be more protective. "
   ]
  },
  {
   "cell_type": "markdown",
   "metadata": {},
   "source": [
    "> As I mentioned earlier, when looking at the data, the context of why the dog bit someone is removed. Therefore, \n",
    "> we must look at this data at face value and not try to read into the why at this moment. I do have plans to do\n",
    "> further research on this subject. For now, it is quite clear that male dogs, regardless of their neutering\n",
    "> status, bite people more often than females."
   ]
  },
  {
   "cell_type": "markdown",
   "metadata": {},
   "source": [
    "### This last chart shows the same information as the stacked area chart in a different format.\n",
    "***"
   ]
  },
  {
   "cell_type": "markdown",
   "metadata": {},
   "source": [
    "<div>\n",
    "    <a href=\"https://plot.ly/~dlromanoff/12/?share_key=NEQ2hzkdEqYxKbSDvUgXDe\" target=\"_blank\" title=\"text-hover-bar\" style=\"display: block; text-align: center;\"><img src=\"https://plot.ly/~dlromanoff/12.png?share_key=NEQ2hzkdEqYxKbSDvUgXDe\" alt=\"text-hover-bar\" style=\"max-width: 100%;width: 600px;\"  width=\"600\" onerror=\"this.onerror=null;this.src='https://plot.ly/404.png';\" /></a>\n",
    "    <script data-plotly=\"dlromanoff:12\" sharekey-plotly=\"NEQ2hzkdEqYxKbSDvUgXDe\" src=\"https://plot.ly/embed.js\" async></script>\n",
    "</div>\n"
   ]
  },
  {
   "cell_type": "markdown",
   "metadata": {},
   "source": [
    "> Again, you can click on the chart to obtain more information for each breed. Here however, one breed towers\n",
    "> over all the others. That is the PitBull. A reminder from ealier in this blog, the Pit Bull is **not** a breed\n",
    "> recognized by the AKC. It can be a mix of dogs and many dogs, regardless of their actually breed, end up\n",
    "> classified as a Pit Bull. Unfortunately, dogs classified as Pit Bulls are the ones that fall into the category\n",
    "> of **dangerous** dogs. They end up on the list of dogs for which there are breed specific laws."
   ]
  },
  {
   "cell_type": "markdown",
   "metadata": {},
   "source": [
    "## Breed, Male/Female, Spayed or Neutered\n",
    "***"
   ]
  },
  {
   "cell_type": "markdown",
   "metadata": {},
   "source": [
    "> In all the data, there is a significance between dog bites and the gender of the dog. It is clear males have\n",
    "> more incidents regardless of whether they are neutered or not. Gender is a considerable factor. It also\n",
    "> surprised me that there was no real significance whether the dog was fixed or not. I've always been under the \n",
    "> impression if we neuter the males, they become less agressive. However, there is no actual evidence of that in\n",
    "> this data. It seems a larger study on that specific factor would need to be done."
   ]
  },
  {
   "cell_type": "markdown",
   "metadata": {},
   "source": [
    "So, indeed gender makes a difference in the incidents of dog bites. Specific breeds do tend to have a higher incidence of bites but in the majority of cases the issue was the gender of the dog not the breed. And whether the dog was fixed or not did not seem to make a signficant difference."
   ]
  },
  {
   "cell_type": "markdown",
   "metadata": {},
   "source": [
    "## Potential Future Research"
   ]
  },
  {
   "cell_type": "markdown",
   "metadata": {},
   "source": [
    "> As indicated in the beginning, my initial question was more nature vs. nurture. Is it the breed of the dog that\n",
    "> makes it more inclined to bite or is it the person or owner behind the dog that causes the agression. I'd\n",
    "> eventually love to answer that question. However, during my research, finding that a Pit Bull is not a\n",
    "> recognized breed of dog made me wonder how many dogs are mislabeled as Pit Bulls just because they look a\n",
    "> certain way. The next study I'd like to do is find out just how many times dogs are mislabels as Pit Bulls and\n",
    "> what breeds make up what people consider Pit Bulls. \n",
    "\n",
    "> I've already thought about how to accomplish this. Finding data to help me draw conclusions would be rather \n",
    "> difficult. I need to collect the data myself. While that doesn't seem too difficult, I would need DNA tests on \n",
    "> each dog used in the study. That is where I might run into trouble. The DNA test on each dog costs about\n",
    "> seventy five dollars. A sponsor would be needed but the results would be well worth it. It seems thoroughly\n",
    "> unfair to classify an animal as a certain breed especially when that breed doesn't technically exist. \n",
    "\n",
    "> For now, we know gender makes a difference. Further research will help us draw additiona conclusions.\n",
    "> Ultimately finding the answer to the nature vs. nuture question."
   ]
  },
  {
   "cell_type": "code",
   "execution_count": null,
   "metadata": {},
   "outputs": [],
   "source": []
  }
 ],
 "metadata": {
  "kernelspec": {
   "display_name": "Python 3",
   "language": "python",
   "name": "python3"
  },
  "language_info": {
   "codemirror_mode": {
    "name": "ipython",
    "version": 3
   },
   "file_extension": ".py",
   "mimetype": "text/x-python",
   "name": "python",
   "nbconvert_exporter": "python",
   "pygments_lexer": "ipython3",
   "version": "3.6.6"
  }
 },
 "nbformat": 4,
 "nbformat_minor": 2
}
