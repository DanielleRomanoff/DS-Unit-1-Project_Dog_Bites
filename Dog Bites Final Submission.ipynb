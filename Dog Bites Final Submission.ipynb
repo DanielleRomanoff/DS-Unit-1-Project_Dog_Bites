{
 "cells": [
  {
   "cell_type": "markdown",
   "metadata": {},
   "source": [
    "# Dog Bites, Breed, and Gender #"
   ]
  },
  {
   "cell_type": "markdown",
   "metadata": {},
   "source": [
    "##### Do Dog Bites have any Relationship to Breed, Gender, or Whether the Dog is Spayed or Neutered?"
   ]
  },
  {
   "cell_type": "markdown",
   "metadata": {},
   "source": [
    "![Pitbull](Pitbull.png \"ShowMyImage\")"
   ]
  },
  {
   "cell_type": "markdown",
   "metadata": {},
   "source": [
    "> When I began this project, the general question I wanted to answer was why do dogs bite? Is it nature or nurture.\n",
    "> As I searched for data on this subject, I began finding how difficult it would be to answer those two questions.\n",
    "> Why? There are many reasons but the biggest hurdles include a lack of a centralized reporting system for dog\n",
    "> bites. Dog bite incidents are reported to one of many agencies which then do not share that information with the\n",
    "> others. For example, the emergency room, the police, the veterinarian are just a few. This makes meaningful\n",
    "> analysis to answer my initial question nearly impossible. "
   ]
  },
  {
   "cell_type": "markdown",
   "metadata": {},
   "source": [
    "> What I decided to focus on this time was the relationship between the breed and gender of the dogs that have\n",
    "> been reported to have bitten a person. The other factor I was interested in was whether the dog had been spayed\n",
    "> or neutered and did that have any obvious connection to a bite incident. Since the raw data automatically\n",
    "> removed the context of the bite incident, I needed to focus on something more straight forward. The data I was\n",
    "> able to find included the breed of the dog, the gender, and whether the animal had been spayed or neutered.\n",
    "> Shown below is a small part of the data I was able to find and work with to draw some conclusions."
   ]
  },
  {
   "cell_type": "markdown",
   "metadata": {},
   "source": [
    "![Dog Bite by Breed](NYC_DataID.png \"ShowMyImage\")"
   ]
  },
  {
   "cell_type": "markdown",
   "metadata": {},
   "source": [
    "> The above data shows a mere seven breeds of dog. There were almost 1300 breeds listed in this data set.\n",
    "> Reading the data above: Below the word, 'Breed', is the actual breed of the dog. There are many mixed\n",
    "> breeds as well as pure breds in the list. To the right of that is the gender of the dog and to its right\n",
    "> reveals whether the dog has been spayed or neutered. Finally, the UniqueID is the actual number of bites\n",
    "> that occured for the spayed/unspayed female or neutered/unneutered male for the specific breed listed. "
   ]
  },
  {
   "cell_type": "markdown",
   "metadata": {},
   "source": [
    "### Important Fact About a Specific Breed "
   ]
  },
  {
   "cell_type": "code",
   "execution_count": null,
   "metadata": {},
   "outputs": [],
   "source": []
  }
 ],
 "metadata": {
  "kernelspec": {
   "display_name": "Python 3",
   "language": "python",
   "name": "python3"
  },
  "language_info": {
   "codemirror_mode": {
    "name": "ipython",
    "version": 3
   },
   "file_extension": ".py",
   "mimetype": "text/x-python",
   "name": "python",
   "nbconvert_exporter": "python",
   "pygments_lexer": "ipython3",
   "version": "3.6.6"
  }
 },
 "nbformat": 4,
 "nbformat_minor": 2
}
