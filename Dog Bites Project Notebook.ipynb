{
 "cells": [
  {
   "cell_type": "markdown",
   "metadata": {},
   "source": [
    "# Dangerous Breed or Not?\n",
    "***"
   ]
  },
  {
   "cell_type": "markdown",
   "metadata": {},
   "source": [
    "##### Do Dog Bites have any Relationship to Breed, Gender, or Whether the Dog is Spayed or Neutered?"
   ]
  },
  {
   "cell_type": "markdown",
   "metadata": {},
   "source": [
    "> Breed-specific laws exist all over the world. They ban or restrict people from owning dog breeds identified as\n",
    "> being responsible for the largest number of and most serious attacks on people. There are both large and small\n",
    "> breeds guilty of a large number of bites. Is there a connection between dog bites and gender? Does it matter if\n",
    "> the dog is spayed or neutered? These are only two possible reasons that might contribute to a dog biting a\n",
    "> person."
   ]
  },
  {
   "cell_type": "markdown",
   "metadata": {},
   "source": [
    "![Pitbull](Pitbull.png \"ShowMyImage\")"
   ]
  },
  {
   "cell_type": "markdown",
   "metadata": {},
   "source": [
    "> It is often tempting to approach any dog that looks like the one above. Most dogs are sweet and loving but\n",
    "> **all** dogs can be unpredictable. Appropriate dog etiquette, caution with an unfamiliar dog, and being\n",
    "> aware of the surroundings help with preventing dog bites. "
   ]
  },
  {
   "cell_type": "markdown",
   "metadata": {},
   "source": [
    "> There are numerous reasons dogs bite. The decision to classify a dog as dangerous should be based on various\n",
    "> and diverse reasons.Certain breeds may have a predisposition for aggression but the number of bites or severity\n",
    "> of those bites is not sufficient to classify a specific breed as dangerous. Initiating new breed-specific laws\n",
    "> based on that information alone is irresponsible and shows a complete lack of understanding of canines by those\n",
    "> who generate those laws."
   ]
  },
  {
   "cell_type": "markdown",
   "metadata": {},
   "source": [
    "**_Below is part of a dataset showing the incidents of dogs bites by breed, gender, and whether the dog is spayed or neutered._**"
   ]
  },
  {
   "cell_type": "markdown",
   "metadata": {},
   "source": [
    "![Dog Bite by Breed](NYC_dataID.png \"ShowMyImage\")"
   ]
  },
  {
   "cell_type": "markdown",
   "metadata": {},
   "source": [
    "> The above data shows a mere four breeds of dog. There were almost 1300 breeds listed in this data set.\n",
    "> Reading the data above: Below the word, 'Breed', is the actual breed of the dog. There are many mixed\n",
    "> breeds as well as pure breds in the list. To the right of that is the gender of the dog and to its right\n",
    "> reveals whether the dog has been spayed or neutered. Finally, the UniqueID is the actual number of bites\n",
    "> that occured for the spayed female or neutered male for the specific breed listed. In 2018, the pitbull, by\n",
    "> many, is considered a dangerous breed. Breed-specific laws do exist for pitbulls. However, the American\n",
    "> Kennel Club(AKC) does not consider pitbulls to be purebred dogs. They do not register dogs classified as\n",
    "> pitbulls."
   ]
  },
  {
   "cell_type": "markdown",
   "metadata": {},
   "source": [
    "![AKC Quote](AKC.png \"ShowMyImage\")\n",
    "___"
   ]
  },
  {
   "cell_type": "markdown",
   "metadata": {},
   "source": [
    "> Below is a stacked area chart showing the dog bites when the breed has twenty five or more bites reported. The\n",
    "> areas are separated by gender and whether the dog has been spayed or neutered. The y-axis shows the number of\n",
    "> bites and the colors represent the two genders and if the animal has been fixed. It is interesting to note the\n",
    "> of area covered by the males verses the females."
   ]
  },
  {
   "cell_type": "markdown",
   "metadata": {},
   "source": [
    "![Bites by BreedStacked](StackedArea.png \"ShowMyImage\")"
   ]
  },
  {
   "cell_type": "markdown",
   "metadata": {},
   "source": [
    "![Dog Bites by Pennsylvania Counties](PAStateMap.png \"ShowMyImage\")"
   ]
  },
  {
   "cell_type": "code",
   "execution_count": null,
   "metadata": {},
   "outputs": [],
   "source": []
  }
 ],
 "metadata": {
  "kernelspec": {
   "display_name": "Python 3",
   "language": "python",
   "name": "python3"
  },
  "language_info": {
   "codemirror_mode": {
    "name": "ipython",
    "version": 3
   },
   "file_extension": ".py",
   "mimetype": "text/x-python",
   "name": "python",
   "nbconvert_exporter": "python",
   "pygments_lexer": "ipython3",
   "version": "3.6.6"
  }
 },
 "nbformat": 4,
 "nbformat_minor": 2
}
