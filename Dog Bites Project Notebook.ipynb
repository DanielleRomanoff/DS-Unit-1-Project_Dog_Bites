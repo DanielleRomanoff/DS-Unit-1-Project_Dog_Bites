{
 "cells": [
  {
   "cell_type": "markdown",
   "metadata": {},
   "source": [
    "# Dangerous Breed or Not?\n",
    "***"
   ]
  },
  {
   "cell_type": "markdown",
   "metadata": {},
   "source": [
    "##### Do Dog Bites have any Relationship to Breed, Gender, or Whether the Dog is Spayed or Neutered?"
   ]
  },
  {
   "cell_type": "markdown",
   "metadata": {},
   "source": [
    "> Breed-specific laws exist all over the world. They ban or restrict people from owning dog breeds identified as\n",
    "> being responsible for the largest number of and most serious attacks on people. There are both large and small\n",
    "> breeds guilty of a large number of bites. Is there a connection between dog bites and gender? Does it matter if\n",
    "> the dog is spayed or neutered? These are only two possible reasons that might contribute to a dog biting a\n",
    "> person."
   ]
  },
  {
   "cell_type": "markdown",
   "metadata": {},
   "source": [
    "> There are numerous reasons dogs bite. The decision to classify a dog as dangerous should be based on various\n",
    "> and diverse reasons.Certain breeds may have a predisposition for aggression but the number of bites or severity\n",
    "> of those bites is not sufficient to classify a specific breed as dangerous. Initiating new breed-specific laws\n",
    "> based on that information alone is irresponsible and shows a complete lack of understanding of canines by those\n",
    "> who generate those laws."
   ]
  },
  {
   "cell_type": "markdown",
   "metadata": {},
   "source": [
    "![Pitbull](Pitbull.png \"ShowMyImage\")"
   ]
  },
  {
   "cell_type": "markdown",
   "metadata": {},
   "source": [
    "## How could you resist that face?"
   ]
  },
  {
   "cell_type": "markdown",
   "metadata": {},
   "source": [
    "> It is often tempting to approach any dog that looks like the one above. Most dogs are sweet and loving but\n",
    "> **all** dogs can be unpredictable. Appropriate dog etiquette, caution with an unfamiliar dog, and being\n",
    "> aware of the surroundings help with preventing dog bites. "
   ]
  },
  {
   "cell_type": "markdown",
   "metadata": {},
   "source": [
    "**_Below is part of a dataset showing the incidents of dogs bites by breed, gender, and whether the dog is spayed or neutered._**"
   ]
  },
  {
   "cell_type": "markdown",
   "metadata": {},
   "source": [
    "![Dog Bite by Breed](NYC_dataID.png \"ShowMyImage\")"
   ]
  },
  {
   "cell_type": "markdown",
   "metadata": {},
   "source": [
    "> The above data shows a mere four breeds of dog. There were almost 1300 breeds listed in this data set.\n",
    "> Reading the data above: Below the word, 'Breed', is the actual breed of the dog. There are many mixed\n",
    "> breeds as well as pure breds in the list. To the right of that is the gender of the dog and to its right\n",
    "> reveals whether the dog has been spayed or neutered. Finally, the UniqueID is the actual number of bites\n",
    "> that occured for the spayed female or neutered male for the specific breed listed. The pitbull today is\n",
    "> considered a dangerous breed. Breed-specific laws do exist for pitbulls. However, the American\n",
    "> Kennel Club(AKC) does not consider pitbulls to be purebred dogs. They do not register dogs classified as\n",
    "> pitbulls. How can breed-specific laws exist for a breed that isn't recognized? From the AKC, \"Pit bull is a\n",
    "> term commonly used to describe a particular type of dog--many being of mixed breeding--that has some ancenstry > relating to breeds in the United States. ... Pit bull is also used sometimes to describe mixes or breeds not\n",
    "> registered with the AKC. ...\""
   ]
  },
  {
   "cell_type": "markdown",
   "metadata": {},
   "source": [
    "![AKC Quote](AKC.png \"ShowMyImage\")\n",
    "___"
   ]
  },
  {
   "cell_type": "markdown",
   "metadata": {},
   "source": [
    "> Below is a stacked area chart showing the dog bites when the breed has twenty five or more bites reported. The\n",
    "> areas are separated by gender and whether the dog has been spayed or neutered. The y-axis shows the number of\n",
    "> bites and the colors represent the two genders and if the animal has been fixed. It is interesting to note\n",
    "> the area covered by the males verses the area filled by the females."
   ]
  },
  {
   "cell_type": "markdown",
   "metadata": {},
   "source": [
    "![Bites by BreedStacked](StackedArea.png \"ShowMyImage\")"
   ]
  },
  {
   "cell_type": "markdown",
   "metadata": {},
   "source": [
    "> There is a significance between males and females that is not only seen in this visual. When comparing\n",
    "> neutered males to spayed females, unneutered males to unspayed females, and total males to total females, the\n",
    "> p-value is significant and leads me to believe there is some connection between the gender of the dog and the\n",
    "> incidents of bites. The bar chart below shows the relationship from a slightly different perspective. The\n",
    "> conclusion is the same. However, in the bar chart, the **Pit bull** stands higher than the rest. Since pit bull\n",
    "> is not actually a breed but rather a mix, there could be many mixed breeds included in this category. Just\n",
    "> because there are a higher number of incidents shown is not necessarily an indication the pit bull is \n",
    "> dangeous."
   ]
  },
  {
   "cell_type": "markdown",
   "metadata": {},
   "source": [
    "![Dog Bites Grouped by Breed](GroupedBarChart.png \"ShowMyImage\")"
   ]
  },
  {
   "cell_type": "markdown",
   "metadata": {},
   "source": [
    "> My initial question was basically are dangerous dogs dangerous because of nature or nuture. Unfortunately,\n",
    "> there is not a centralized reporting system for dog bites. There are multiple entities that keep records such\n",
    "> as the police, veterinarians, emergency rooms, and animal control. This makes it almost impossible to\n",
    "> effectively collect the needed data to reach valid conclusions. There was one other data set that caught my\n",
    "> attention. It provided all the incidents of dog bites where criminal charges were filed in the state of\n",
    "> Pennsylvania from 1996 to 2017. The counties in which the incident occurred were also listed. Below is a map of\n",
    "> Pennsylvania with counties colored coded based on the number of criminal charges filed for dog bites."
   ]
  },
  {
   "cell_type": "markdown",
   "metadata": {},
   "source": [
    "![Pennsylvania State Map](PAStateMap.png \"ShowMyImage\")"
   ]
  },
  {
   "cell_type": "markdown",
   "metadata": {},
   "source": [
    "> While gender appears to be a factor in the incidents of dog bites, it is only one factor. The real question is,\n",
    "> why did the dog bite someone? These statistics don't account for context. I have two dogs. Both are lab mixes,\n",
    "> well trained, and very sweet. Just last week, we had visitors at the house. One person approached one of the\n",
    "> dogs from behind and scared him. His immediate response was to jump toward her to defend himself. He did not\n",
    "> bite her but it looked very much like he was going to. This particular dog is a rescue and had been abused as\n",
    "> a puppy. He is a nervous animal who wants nothing more than to love and be loved. Context is an important\n",
    "> factor in explaining any dog bite incident and should be considered carefully when drawing conclusions about\n",
    "> why any dog would bite a person."
   ]
  }
 ],
 "metadata": {
  "kernelspec": {
   "display_name": "Python 3",
   "language": "python",
   "name": "python3"
  },
  "language_info": {
   "codemirror_mode": {
    "name": "ipython",
    "version": 3
   },
   "file_extension": ".py",
   "mimetype": "text/x-python",
   "name": "python",
   "nbconvert_exporter": "python",
   "pygments_lexer": "ipython3",
   "version": "3.6.6"
  }
 },
 "nbformat": 4,
 "nbformat_minor": 2
}
